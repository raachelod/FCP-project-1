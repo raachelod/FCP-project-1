{
 "cells": [
  {
   "cell_type": "code",
   "execution_count": 1,
   "metadata": {},
   "outputs": [],
   "source": [
    "import pandas as pd\n",
    "import matplotlib.pyplot as plt\n",
    "import matplotlib.animation as ani\n",
    "import numpy as np\n",
    "from scipy.integrate import odeint"
   ]
  },
  {
   "cell_type": "code",
   "execution_count": 21,
   "metadata": {},
   "outputs": [
    {
     "name": "stdout",
     "output_type": "stream",
     "text": [
      "The R value is: 1.0\n"
     ]
    },
    {
     "data": {
      "text/plain": [
       "<AxesSubplot:xlabel='day'>"
      ]
     },
     "execution_count": 21,
     "metadata": {},
     "output_type": "execute_result"
    },
    {
     "data": {
      "image/png": "[encoded data removed]",
      "text/plain": [
       "<Figure size 432x288 with 1 Axes>"
      ]
     },
     "metadata": {},
     "output_type": "display_data"
    }
   ],
   "source": [
    "#the SIR model differential eq, source of code https://www.youtube.com/watch?v=ITUiX5Fpmm4\n",
    "#equations from https://www.youtube.com/watch?v=NKMHhm2Zbkw\n",
    "\n",
    "def derivative(state, t, N, alpha, beta):   #constants alpha(effective_contact_rate) and beta(recovery_rate)\n",
    "    S, I, R = state #s,susceptible, I, infected, R, recovered(or dead) but either way immune\n",
    "    #rate of change of S population\n",
    "    dSdt = -alpha*S*I/N\n",
    "    #rate of change of I population\n",
    "    dIdt = beta * I\n",
    "    #rate of change of R population\n",
    "    dRdt = beta\n",
    "    return dSdt, dIdt, dRdt\n",
    "\n",
    "effective_contact_rate = 0.1 #transmission_rate * contact_rate #can choose this value, it will vary- compare to actual data to discover?\n",
    "recovery_rate = 0.1 #1 / no_of_days #choose this value aswell\n",
    "\n",
    "R_value = effective_contact_rate / recovery_rate\n",
    "print('The R value is:', R_value)  #might aswell show this as its extra data\n",
    "\n",
    "\n",
    "total_population = 56500000  #of England at beginning of 2020 https://www.statista.com/statistics/975956/population-of-england/\n",
    "recovered = 0 #assuming Covid entered the UK at the beginning of 2020, not before, no current deaths or immuntiy\n",
    "infected = 1 #patient 0\n",
    "susceptible = total_population - infected - recovered\n",
    "\n",
    "days = range(0,365) #just shows a year of infection, do we need to watch for leap years?\n",
    "\n",
    "#use our SIR differential eq\n",
    "ret = odeint(derivative,\n",
    "            [susceptible, infected, recovered],\n",
    "            days,\n",
    "            args=(total_population, effective_contact_rate, recovery_rate))\n",
    "S, I, R = ret.T\n",
    "\n",
    "#data frame of the data on each day of a year, should create an 'admitted_to_hospital' row\n",
    "#'admitted_to_hospital' based on proportion of infected people admitted that day?\n",
    "df = pd.DataFrame({\n",
    "    'susceptible' : S,\n",
    "    'infected' : I,\n",
    "    'recovered' : R,\n",
    "    'day': days\n",
    "})\n",
    "\n",
    "\n",
    "#do a funky plot, this would hopefully be simulated hospital admissions compared to actual hospital admissions eventually\n",
    "plt.style.use('ggplot')\n",
    "df.plot(x='day',\n",
    "       y=['infected','susceptible','recovered'],\n",
    "       color = ('#bb6424', '#aac6ca', '#cc8ac0'),\n",
    "       kind = 'area',\n",
    "       stacked = False)\n",
    "\n",
    "\n"
   ]
  },
  {
   "cell_type": "code",
   "execution_count": 3,
   "metadata": {},
   "outputs": [
    {
     "data": {
      "text/html": [
       "<div>\n",
       "<style scoped>\n",
       "    .dataframe tbody tr th:only-of-type {\n",
       "        vertical-align: middle;\n",
       "    }\n",
       "\n",
       "    .dataframe tbody tr th {\n",
       "        vertical-align: top;\n",
       "    }\n",
       "\n",
       "    .dataframe thead th {\n",
       "        text-align: right;\n",
       "    }\n",
       "</style>\n",
       "<table border=\"1\" class=\"dataframe\">\n",
       "  <thead>\n",
       "    <tr style=\"text-align: right;\">\n",
       "      <th></th>\n",
       "      <th>susceptible</th>\n",
       "      <th>infected</th>\n",
       "      <th>recovered</th>\n",
       "      <th>day</th>\n",
       "    </tr>\n",
       "  </thead>\n",
       "  <tbody>\n",
       "    <tr>\n",
       "      <th>0</th>\n",
       "      <td>5.650000e+07</td>\n",
       "      <td>1.000000e+00</td>\n",
       "      <td>0.0</td>\n",
       "      <td>0</td>\n",
       "    </tr>\n",
       "    <tr>\n",
       "      <th>1</th>\n",
       "      <td>5.650000e+07</td>\n",
       "      <td>1.221403e+00</td>\n",
       "      <td>0.2</td>\n",
       "      <td>1</td>\n",
       "    </tr>\n",
       "    <tr>\n",
       "      <th>2</th>\n",
       "      <td>5.650000e+07</td>\n",
       "      <td>1.491825e+00</td>\n",
       "      <td>0.4</td>\n",
       "      <td>2</td>\n",
       "    </tr>\n",
       "    <tr>\n",
       "      <th>3</th>\n",
       "      <td>5.650000e+07</td>\n",
       "      <td>1.822119e+00</td>\n",
       "      <td>0.6</td>\n",
       "      <td>3</td>\n",
       "    </tr>\n",
       "    <tr>\n",
       "      <th>4</th>\n",
       "      <td>5.650000e+07</td>\n",
       "      <td>2.225541e+00</td>\n",
       "      <td>0.8</td>\n",
       "      <td>4</td>\n",
       "    </tr>\n",
       "    <tr>\n",
       "      <th>...</th>\n",
       "      <td>...</td>\n",
       "      <td>...</td>\n",
       "      <td>...</td>\n",
       "      <td>...</td>\n",
       "    </tr>\n",
       "    <tr>\n",
       "      <th>360</th>\n",
       "      <td>-3.430598e-11</td>\n",
       "      <td>1.858680e+31</td>\n",
       "      <td>72.0</td>\n",
       "      <td>360</td>\n",
       "    </tr>\n",
       "    <tr>\n",
       "      <th>361</th>\n",
       "      <td>1.037493e-09</td>\n",
       "      <td>2.270197e+31</td>\n",
       "      <td>72.2</td>\n",
       "      <td>361</td>\n",
       "    </tr>\n",
       "    <tr>\n",
       "      <th>362</th>\n",
       "      <td>-3.590088e-12</td>\n",
       "      <td>2.772824e+31</td>\n",
       "      <td>72.4</td>\n",
       "      <td>362</td>\n",
       "    </tr>\n",
       "    <tr>\n",
       "      <th>363</th>\n",
       "      <td>1.077834e-11</td>\n",
       "      <td>3.386736e+31</td>\n",
       "      <td>72.6</td>\n",
       "      <td>363</td>\n",
       "    </tr>\n",
       "    <tr>\n",
       "      <th>364</th>\n",
       "      <td>6.394737e-09</td>\n",
       "      <td>4.136568e+31</td>\n",
       "      <td>72.8</td>\n",
       "      <td>364</td>\n",
       "    </tr>\n",
       "  </tbody>\n",
       "</table>\n",
       "<p>365 rows × 4 columns</p>\n",
       "</div>"
      ],
      "text/plain": [
       "      susceptible      infected  recovered  day\n",
       "0    5.650000e+07  1.000000e+00        0.0    0\n",
       "1    5.650000e+07  1.221403e+00        0.2    1\n",
       "2    5.650000e+07  1.491825e+00        0.4    2\n",
       "3    5.650000e+07  1.822119e+00        0.6    3\n",
       "4    5.650000e+07  2.225541e+00        0.8    4\n",
       "..            ...           ...        ...  ...\n",
       "360 -3.430598e-11  1.858680e+31       72.0  360\n",
       "361  1.037493e-09  2.270197e+31       72.2  361\n",
       "362 -3.590088e-12  2.772824e+31       72.4  362\n",
       "363  1.077834e-11  3.386736e+31       72.6  363\n",
       "364  6.394737e-09  4.136568e+31       72.8  364\n",
       "\n",
       "[365 rows x 4 columns]"
      ]
     },
     "execution_count": 3,
     "metadata": {},
     "output_type": "execute_result"
    }
   ],
   "source": [
    "df"
   ]
  },
  {
   "cell_type": "code",
   "execution_count": 5,
   "metadata": {},
   "outputs": [],
   "source": [
    "df.to_csv('http://localhost:8888/tree/FCP-project-1/Basic_SIR_Data.csv', index = False)"
   ]
  },
  {
   "cell_type": "code",
   "execution_count": null,
   "metadata": {},
   "outputs": [],
   "source": []
  },
  {
   "cell_type": "code",
   "execution_count": null,
   "metadata": {},
   "outputs": [],
   "source": []
  },
  {
   "cell_type": "code",
   "execution_count": null,
   "metadata": {},
   "outputs": [],
   "source": []
  },
  {
   "cell_type": "code",
   "execution_count": null,
   "metadata": {},
   "outputs": [],
   "source": []
  }
 ],
 "metadata": {
  "kernelspec": {
   "display_name": "Python 3",
   "language": "python",
   "name": "python3"
  },
  "language_info": {
   "codemirror_mode": {
    "name": "ipython",
    "version": 3
   },
   "file_extension": ".py",
   "mimetype": "text/x-python",
   "name": "python",
   "nbconvert_exporter": "python",
   "pygments_lexer": "ipython3",
   "version": "3.8.8"
  }
 },
 "nbformat": 4,
 "nbformat_minor": 4
}
