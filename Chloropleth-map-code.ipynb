{
 "cells": [
  {
   "cell_type": "code",
   "execution_count": 1,
   "id": "256b14dd",
   "metadata": {},
   "outputs": [],
   "source": [
    "import pandas as pd\n",
    "import plotly.graph_objects as go\n",
    "import numpy as np\n",
    "\n",
    "\n",
    "#we'll split the data into 0-500, 500-1000, 1000-1500 etc up to 20,000\n",
    "\n",
    "#data = pd.read_csv('NHSdata/Dailycovidbedsinhospitalsbyregion.xlsx')\n",
    "#data.head()\n",
    "#data['text'] = data['name'] + '<br>Population ' + (data['no-admissions']/1e6).astype(str)+' million'\n",
    "#limits = [(0,1000),(1001,2000),(2001,3000),(3001,4000),(4001,5000),(5001,6000),(6001,7000),(7001,8000),(8001,9000),(9001,10000),(10001,11000),(11001,12000),(12001,13000),(13001,14000),(14001,15000),(15001,16000),(16001,17000),(17001,18000),(18001,19000),(19001,20000)]\n",
    "\n",
    "\n",
    "\n",
    "\n",
    "\n",
    "\n",
    "#the bit that could animate it across months\n",
    "#import plotly.express as px\n",
    "\n",
    "#df = px.data.gapminder()\n",
    "#fig = px.scatter_geo(df, locations=\"iso_alpha #what is this? make counties?\", color=\"County\",\n",
    " #                    hover_name=\"Hospital\", size=\"no-admissions\",\n",
    "  #                   animation_frame=\"month\",\n",
    "   #                  projection=\"England\")\n",
    "#fig.show()"
   ]
  },
  {
   "cell_type": "code",
   "execution_count": 2,
   "id": "4b14fb02",
   "metadata": {},
   "outputs": [
    {
     "ename": "FileNotFoundError",
     "evalue": "[Errno 2] No such file or directory: 'uk_regions.geojson'",
     "output_type": "error",
     "traceback": [
      "\u001b[1;31m---------------------------------------------------------------------------\u001b[0m",
      "\u001b[1;31mFileNotFoundError\u001b[0m                         Traceback (most recent call last)",
      "\u001b[1;32mc:\\Users\\lotti\\OneDrive\\Documents\\Important docs\\Computer programming\\FCP group 1st year\\FCP-project-1-1\\FCP-project-1\\Chloropleth-map-code.ipynb Cell 2'\u001b[0m in \u001b[0;36m<cell line: 2>\u001b[1;34m()\u001b[0m\n\u001b[0;32m      <a href='vscode-notebook-cell:/c%3A/Users/lotti/OneDrive/Documents/Important%20docs/Computer%20programming/FCP%20group%201st%20year/FCP-project-1-1/FCP-project-1/Chloropleth-map-code.ipynb#ch0000001?line=0'>1</a>\u001b[0m \u001b[39mimport\u001b[39;00m \u001b[39mjson\u001b[39;00m\n\u001b[1;32m----> <a href='vscode-notebook-cell:/c%3A/Users/lotti/OneDrive/Documents/Important%20docs/Computer%20programming/FCP%20group%201st%20year/FCP-project-1-1/FCP-project-1/Chloropleth-map-code.ipynb#ch0000001?line=1'>2</a>\u001b[0m uk_regions \u001b[39m=\u001b[39m json\u001b[39m.\u001b[39mload(\u001b[39mopen\u001b[39;49m(\u001b[39m'\u001b[39;49m\u001b[39muk_regions.geojson\u001b[39;49m\u001b[39m'\u001b[39;49m,\u001b[39m'\u001b[39;49m\u001b[39mr\u001b[39;49m\u001b[39m'\u001b[39;49m))\n\u001b[0;32m      <a href='vscode-notebook-cell:/c%3A/Users/lotti/OneDrive/Documents/Important%20docs/Computer%20programming/FCP%20group%201st%20year/FCP-project-1-1/FCP-project-1/Chloropleth-map-code.ipynb#ch0000001?line=2'>3</a>\u001b[0m uk_regions[\u001b[39m'\u001b[39m\u001b[39mfeatures\u001b[39m\u001b[39m'\u001b[39m][\u001b[39m0\u001b[39m]\n",
      "\u001b[1;31mFileNotFoundError\u001b[0m: [Errno 2] No such file or directory: 'uk_regions.geojson'"
     ]
    }
   ],
   "source": [
    "import json\n",
    "uk_regions = json.load(open('uk_regions.geojson','r'))\n",
    "uk_regions['features'][0]\n"
   ]
  }
 ],
 "metadata": {
  "kernelspec": {
   "display_name": "Python 3",
   "language": "python",
   "name": "python3"
  },
  "language_info": {
   "codemirror_mode": {
    "name": "ipython",
    "version": 3
   },
   "file_extension": ".py",
   "mimetype": "text/x-python",
   "name": "python",
   "nbconvert_exporter": "python",
   "pygments_lexer": "ipython3",
   "version": "3.9.12"
  }
 },
 "nbformat": 4,
 "nbformat_minor": 5
}
