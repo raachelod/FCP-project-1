{
 "cells": [
  {
   "cell_type": "code",
   "execution_count": 1,
   "id": "256b14dd",
   "metadata": {},
   "outputs": [],
   "source": [
    "import pandas as pd\n",
    "import plotly.graph_objects as go\n",
    "import numpy as np\n",
    "\n",
    "\n",
    "#the bit that adds the data to the uk graph\n",
    "#To scale the bubble size, use the attribute sizeref. We recommend using the following formula to calculate a sizeref value:\n",
    "#sizeref = 2. * max(array of size values) / (desired maximum marker size ** 2)\n",
    "\n",
    "#we'll split the data into 0-500, 500-1000, 1000-1500 etc up to 20,000\n",
    "\n",
    "data = pd.read_csv('hospital-admissions.py')\n",
    "data.head()\n",
    "data['text'] = data['name'] + '<br>Population ' + (data['no-admissions']/1e6).astype(str)+' million'\n",
    "limits = [(0,1000),(1001,2000),(2001,3000),(3001,4000),(4001,5000),(5001,6000),(6001,7000),(7001,8000),(8001,9000),(9001,10000),(10001,11000),(11001,12000),(12001,13000),(13001,14000),(14001,15000),(15001,16000),(16001,17000),(17001,18000),(18001,19000),(19001,20000)]\n",
    "\n",
    "\n",
    "\n",
    "\n",
    "\n",
    "\n",
    "\n",
    "\n",
    "\n",
    "#the bit that could animate it across months\n",
    "import plotly.express as px\n",
    "\n",
    "df = px.data.gapminder()\n",
    "fig = px.scatter_geo(df, locations=\"iso_alpha #what is this? make counties?\", color=\"County\",\n",
    "                     hover_name=\"Hospital\", size=\"no-admissions\",\n",
    "                     animation_frame=\"month\",\n",
    "                     projection=\"England\")\n",
    "fig.show()"
   ]
  },
  {
   "cell_type": "code",
   "execution_count": null,
   "id": "4b14fb02",
   "metadata": {},
   "outputs": [],
   "source": []
  }
 ],
 "metadata": {
  "kernelspec": {
   "display_name": "Python 3",
   "language": "python",
   "name": "python3"
  },
  "language_info": {
   "codemirror_mode": {
    "name": "ipython",
    "version": 3
   },
   "file_extension": ".py",
   "mimetype": "text/x-python",
   "name": "python",
   "nbconvert_exporter": "python",
   "pygments_lexer": "ipython3",
   "version": "3.8.8"
  }
 },
 "nbformat": 4,
 "nbformat_minor": 5
}
