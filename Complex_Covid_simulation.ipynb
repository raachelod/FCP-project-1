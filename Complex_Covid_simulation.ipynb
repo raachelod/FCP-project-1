{
 "cells": [
  {
   "cell_type": "code",
   "execution_count": 1,
   "metadata": {},
   "outputs": [],
   "source": [
    "import matplotlib.pyplot as plt\n",
    "import matplotlib.animation as ani\n",
    "import numpy as np\n",
    "import plotly.express as px"
   ]
  },
  {
   "cell_type": "code",
   "execution_count": 3,
   "metadata": {},
   "outputs": [
    {
     "ename": "SyntaxError",
     "evalue": "invalid syntax (<ipython-input-3-79e031df1124>, line 12)",
     "output_type": "error",
     "traceback": [
      "\u001b[0;36m  File \u001b[0;32m\"<ipython-input-3-79e031df1124>\"\u001b[0;36m, line \u001b[0;32m12\u001b[0m\n\u001b[0;31m    'incubation_period': 7,\u001b[0m\n\u001b[0m                       ^\u001b[0m\n\u001b[0;31mSyntaxError\u001b[0m\u001b[0;31m:\u001b[0m invalid syntax\n"
     ]
    }
   ],
   "source": [
    "#https://www.youtube.com/watch?v=KAmZe5D3v5I\n",
    "\n",
    "#RDG tuples for colours of health status\n",
    "GREY = (0, 0, 0, 0.5) #uninfected\n",
    "RED = (255, 0, 0, 0.5) #infected\n",
    "GREEN = (0, 255, 0, 0.5) #recovered\n",
    "BLACK = (0, 0, 0, 1) #dead- may not need this one as just part of 'recovered' for hospitable admissions\n",
    "\n",
    "#creating a dictionary with info specific to covid- find an internet source for thse values-not correct yet!!\n",
    "parameters = {\n",
    "    'r0': #can we use basic SIR covid simulation here to work this out??,\n",
    "    'incubation_period': ,\n",
    "    'recovery_out_hospital': (x,y) ,# x, y, z, k all values to research for min to max no days spent revoering in the two environments\n",
    "    'recovery_in_hospital': (z,k),\n",
    "    'percent_infected_out_hospital': ,\n",
    "    'percent_infected_in_hospital': ,\n",
    "}\n",
    "\n",
    "class Covid_model_fun():\n",
    "    def __init__(self, parameters):\n",
    "        #creating line graph of daily hospital admissions of our simulation AND real time data\n",
    "        self.fig = px.line(df, x='day', y='number of hospital admissions', title='hospital admissions per day')\n",
    "        self.real_data = self.fig.add_subplot(#add the real_data line here)\n",
    "        self.fig.show()\n",
    "        \n",
    "        #shiiiiiiiiiitttttttt\n",
    "    \n",
    "        self.day = 0\n",
    "        self.total_num_infected = 0\n",
    "        self.num_currently_infected = 0\n",
    "        self.num_recovered = 0  #includes deaths in this\n",
    "        self.r0 = params['r0']\n",
    "        self.percent_infected_out_hospital = params['percent_infected_out_hospital']\n",
    "        self.percent_infected_in_hospital = params['percent_infected_in_hospital']\n",
    "        \n",
    "        self.in_hospital_slow = params['incubation_period'] + params[recovery_in_hospital][1]\n",
    "        self.in_hospital_fast = params['incubation_period'] + params[recovery_in_hospital][0]\n",
    "        self.out_hospital_slow = params['incubation_period'] + params[recovery_out_hospital][1]\n",
    "        self.out_hospital_fast = params['incubation_period'] + params[recovery_out_hospital][0]\n",
    "        \n",
    "        #dictionary for recovery time for infected people in and out of hospital over a year\n",
    "        self.out_hospital = {i: {} for i in range(self.out_hospital_fast, 365)}\n",
    "        self.in_hospital = {i: {} for i in range(self.in_hospital_fast, 365)}\n",
    "        \n",
    "        #restricting spread of virus to a subset of population\n",
    "        self.exposed_start = 0 #no people exposed already\n",
    "        self.exposed_end = 1 #tot no of people exposed by the end of the wave\n",
    "    \n",
    "    def initial_population(self):\n",
    "        population = 56500000  #of England at beginning of 2020\n",
    "        self.total_num_infected = 1\n",
    "        self.num_currently_infected = 1\n",
    "        #indices = np.arrange(0, population) + 0.5\n",
    "\n",
    "Covid_model_fun(parameters)\n",
    "plt.show()"
   ]
  },
  {
   "cell_type": "code",
   "execution_count": null,
   "metadata": {},
   "outputs": [],
   "source": []
  }
 ],
 "metadata": {
  "kernelspec": {
   "display_name": "Python 3",
   "language": "python",
   "name": "python3"
  },
  "language_info": {
   "codemirror_mode": {
    "name": "ipython",
    "version": 3
   },
   "file_extension": ".py",
   "mimetype": "text/x-python",
   "name": "python",
   "nbconvert_exporter": "python",
   "pygments_lexer": "ipython3",
   "version": "3.8.3"
  }
 },
 "nbformat": 4,
 "nbformat_minor": 4
}
