{
 "cells": [
  {
   "cell_type": "code",
   "execution_count": 50,
   "id": "b654947d",
   "metadata": {},
   "outputs": [
    {
     "name": "stdout",
     "output_type": "stream",
     "text": [
      "Inital population:6\n",
      "People initally infected:3\n"
     ]
    },
    {
     "data": {
      "image/png": "[encoded data removed]",
      "text/plain": [
       "<Figure size 432x288 with 1 Axes>"
      ]
     },
     "metadata": {},
     "output_type": "display_data"
    },
    {
     "name": "stdout",
     "output_type": "stream",
     "text": [
      "          Date  susceptible  infected  removed\n",
      "0   2020-03-19          3.0       3.0      0.0\n",
      "1   2020-03-20          NaN       NaN      NaN\n",
      "2   2020-03-21          NaN       NaN      NaN\n",
      "3   2020-03-22          NaN       NaN      NaN\n",
      "4   2020-03-23          NaN       NaN      NaN\n",
      "..         ...          ...       ...      ...\n",
      "743 2022-04-01          NaN       NaN      NaN\n",
      "744 2022-04-02          NaN       NaN      NaN\n",
      "745 2022-04-03          NaN       NaN      NaN\n",
      "746 2022-04-04          NaN       NaN      NaN\n",
      "747 2022-04-05          NaN       NaN      NaN\n",
      "\n",
      "[748 rows x 4 columns]\n"
     ]
    }
   ],
   "source": [
    "import numpy as np\n",
    "from scipy.integrate import odeint\n",
    "import matplotlib.pyplot as plt\n",
    "from matplotlib.animation import FuncAnimation\n",
    "import pandas as pd\n",
    " \n",
    "# Total population, N.\n",
    "N = int(input(\"Inital population:\"))\n",
    "# Initial number of infected and recovered individuals, I0 and R0.\n",
    "I0 = int(input(\"People initally infected:\"))\n",
    "R0 = 0\n",
    "# Everyone else, S0, is susceptible to infection initially.\n",
    "S0 = N - I0 - R0\n",
    "# Contact rate, beta, and mean recovery rate, gamma, (in 1/days).\n",
    "#beta, gamma = 0.2, 1./10\n",
    "contact_rate = 0.2\n",
    "recovery_rate = 1/10\n",
    "# A grid of time points (in days)\n",
    "t_span = np.linspace(0, 748, 748)\n",
    "h = t_span[1]-t_span[0]\n",
    " \n",
    " \n",
    "# The SIR model differential equations.\n",
    "def deriv(y, N, contact_rate, recovery_rate):\n",
    "    S, I, R = y\n",
    "    dSdt = -contact_rate * S * I / N\n",
    "    dIdt = contact_rate * S * I / N - recovery_rate * I\n",
    "    dRdt = recovery_rate * I\n",
    "    return np.array([dSdt, dIdt, dRdt])\n",
    "     \n",
    " \n",
    "fig = plt.figure(facecolor='w')\n",
    "ax = fig.add_subplot(111, facecolor='#dddddd', axisbelow=True)\n",
    "line = [ax.plot([], [], 'b', alpha=0.5, lw=2, label='Susceptible')[0]]\n",
    "line.append(ax.plot([], [], 'r', alpha=0.5, lw=2, label='Infected')[0])\n",
    "line.append(ax.plot([], [], 'g', alpha=0.5, lw=2, label='Removed')[0])\n",
    "ax.set_xlabel('Days')\n",
    "ax.set_ylabel('Number of people')\n",
    "ax.set_ylim(0,10000)  #just check that this value is correct\n",
    "ax.set_xlim(0,len(t_span))\n",
    "ax.yaxis.set_tick_params(length=0)\n",
    "ax.xaxis.set_tick_params(length=0)\n",
    "ax.grid(visible=True, which='major', c='w', lw=2, ls='-')\n",
    "legend = ax.legend()\n",
    "legend.get_frame().set_alpha(0.5)\n",
    "for spine in ('top', 'right', 'bottom', 'left'):\n",
    "    ax.spines[spine].set_visible(False)\n",
    "    \n",
    "X = np.empty((3,len(t_span)))*np.nan\n",
    "X[:,0] = (S0,I0,R0)\n",
    "\n",
    "# initialization function: plot the background of each frame\n",
    "def init():\n",
    "    [line[i].set_data([], []) for i in range(3)]\n",
    "    return line\n",
    " \n",
    "# animation function.  This is called sequentially\n",
    "def animate(i):\n",
    "    dX = deriv(X[:,i],N,contact_rate,recovery_rate)\n",
    "    X[:,i+1] = X[:,i] + h*dX\n",
    "   \n",
    "    line[0].set_data(t_span, X[0,:])\n",
    "    line[1].set_data(t_span, X[1,:])\n",
    "    line[2].set_data(t_span, X[2,:])\n",
    "    return line\n",
    "\n",
    "def dataframe(): #trying to put the data into a data frame\n",
    "    rng = pd.date_range('19-03-2020', periods = 748, freq= 'D')\n",
    "    #from graph, get the yposition every day\n",
    "    susceptible = []\n",
    "    infected = []\n",
    "    removed = []\n",
    "    for s in X[0,:]: #trying to add a y value every day to the susceptible list\n",
    "        susceptible.append(s)\n",
    "        #s+=1   \n",
    "    for i in X[1,:]:\n",
    "        infected.append(i)\n",
    "        #i+=1\n",
    "    for r in X[2,:]:\n",
    "        removed.append(r)\n",
    "        #r+=1\n",
    "    \n",
    "    df = pd.DataFrame({'Date':rng, 'susceptible': susceptible, 'infected': infected, 'removed': removed})\n",
    "    df.to_csv = ('Dataframes')\n",
    "    #df.savefig('Dataframesimulation')\n",
    "    print(df)\n",
    "    \n",
    "\n",
    "anim =FuncAnimation(fig, animate, init_func=init, frames=len(t_span)-1, interval=20, blit=True)\n",
    "plt.savefig('Admissions_Graph')\n",
    "plt.show()\n",
    "dataframe()\n",
    "\n",
    "\n",
    "## "
   ]
  },
  {
   "cell_type": "code",
   "execution_count": null,
   "id": "814da5e4",
   "metadata": {},
   "outputs": [],
   "source": []
  },
  {
   "cell_type": "code",
   "execution_count": null,
   "id": "8bd99af6",
   "metadata": {},
   "outputs": [],
   "source": []
  }
 ],
 "metadata": {
  "kernelspec": {
   "display_name": "Python 3",
   "language": "python",
   "name": "python3"
  },
  "language_info": {
   "codemirror_mode": {
    "name": "ipython",
    "version": 3
   },
   "file_extension": ".py",
   "mimetype": "text/x-python",
   "name": "python",
   "nbconvert_exporter": "python",
   "pygments_lexer": "ipython3",
   "version": "3.8.8"
  }
 },
 "nbformat": 4,
 "nbformat_minor": 5
}
