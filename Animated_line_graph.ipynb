{
 "cells": [
  {
   "cell_type": "code",
   "execution_count": 11,
   "metadata": {},
   "outputs": [
    {
     "ename": "NameError",
     "evalue": "name 'merged_data' is not defined",
     "output_type": "error",
     "traceback": [
      "\u001b[0;31m---------------------------------------------------------------------------\u001b[0m",
      "\u001b[0;31mNameError\u001b[0m                                 Traceback (most recent call last)",
      "\u001b[0;32m<ipython-input-11-7415b5295049>\u001b[0m in \u001b[0;36m<module>\u001b[0;34m\u001b[0m\n\u001b[1;32m      9\u001b[0m \u001b[0;31m#simulated_plot = df_simulated.plot(x= 'Days', y = 'Covid patients in of hospital')\u001b[0m\u001b[0;34m\u001b[0m\u001b[0;34m\u001b[0m\u001b[0;34m\u001b[0m\u001b[0m\n\u001b[1;32m     10\u001b[0m \u001b[0;34m\u001b[0m\u001b[0m\n\u001b[0;32m---> 11\u001b[0;31m \u001b[0mdf_NHS_data\u001b[0m \u001b[0;34m=\u001b[0m \u001b[0mpd\u001b[0m\u001b[0;34m.\u001b[0m\u001b[0mread_csv\u001b[0m\u001b[0;34m(\u001b[0m\u001b[0mmerged_data\u001b[0m\u001b[0;34m)\u001b[0m\u001b[0;34m\u001b[0m\u001b[0;34m\u001b[0m\u001b[0m\n\u001b[0m\u001b[1;32m     12\u001b[0m \u001b[0mNHS_data_plot\u001b[0m \u001b[0;34m=\u001b[0m \u001b[0mdf_NHS_data\u001b[0m\u001b[0;34m.\u001b[0m\u001b[0mplot\u001b[0m\u001b[0;34m(\u001b[0m \u001b[0mx\u001b[0m\u001b[0;34m=\u001b[0m \u001b[0;34m'Name'\u001b[0m\u001b[0;34m,\u001b[0m \u001b[0my\u001b[0m \u001b[0;34m=\u001b[0m \u001b[0;34m'England'\u001b[0m\u001b[0;34m)\u001b[0m \u001b[0;31m#ax=simulated_plot #will need to change this for the correct headings\u001b[0m\u001b[0;34m\u001b[0m\u001b[0;34m\u001b[0m\u001b[0m\n\u001b[1;32m     13\u001b[0m \u001b[0;34m\u001b[0m\u001b[0m\n",
      "\u001b[0;31mNameError\u001b[0m: name 'merged_data' is not defined"
     ]
    }
   ],
   "source": [
    "#https://stackoverflow.com/questions/28074461/animating-growing-line-plot-in-python-matplotlib\n",
    "\n",
    "import numpy as np\n",
    "import matplotlib.pyplot as plt\n",
    "import pandas as pd\n",
    "import matplotlib.animation as ani\n",
    "\n",
    "#df_simulated = pd.read_csv(the simulations outputted data frame here)\n",
    "#simulated_plot = df_simulated.plot(x= 'Days', y = 'Covid patients in of hospital')\n",
    "\n",
    "df_NHS_data = pd.read_csv(merged_data.csv)\n",
    "NHS_data_plot = df_NHS_data.plot( x= 'Name', y = 'England') #ax=simulated_plot #will need to change this for the correct headings\n",
    "\n",
    "color = ['red', 'green']\n",
    "fig = plt.figure()\n",
    "plt.xticks(rotation=45, ha=\"right\", rotation_mode=\"anchor\") #rotate the x-axis values\n",
    "plt.subplots_adjust(bottom = 0.2, top = 0.9) #ensuring the days on the x-axis fit in the screen\n",
    "plt.ylabel('No. of hospital admissions')\n",
    "plt.xlabel('Days')\n",
    "\n",
    "def buildmebarchart(i=int):\n",
    "    plt.legend(df1.columns)\n",
    "    p = plt.plot(df1[:i].index, df1[:i].values) #note it only returns the dataset, up to the point i\n",
    "    for i in range(0,2):\n",
    "        p[i].set_color(color[i]) #set the colour of each curve\n",
    "\n",
    "animator = ani.FuncAnimation(fig, buildmebarchart, interval = 100)\n",
    "\n",
    "plt.show()\n",
    "#https://stackoverflow.com/questions/62010045/how-to-create-an-animated-line-chart-from-dataframes-columns\n",
    "\n",
    "#somehow get the dataframe created by the simulation here aswell :)\n"
   ]
  },
  {
   "cell_type": "code",
   "execution_count": null,
   "metadata": {},
   "outputs": [],
   "source": []
  },
  {
   "cell_type": "code",
   "execution_count": null,
   "metadata": {},
   "outputs": [],
   "source": []
  },
  {
   "cell_type": "code",
   "execution_count": null,
   "metadata": {},
   "outputs": [],
   "source": []
  },
  {
   "cell_type": "code",
   "execution_count": null,
   "metadata": {},
   "outputs": [],
   "source": []
  },
  {
   "cell_type": "code",
   "execution_count": null,
   "metadata": {},
   "outputs": [],
   "source": []
  },
  {
   "cell_type": "code",
   "execution_count": null,
   "metadata": {},
   "outputs": [],
   "source": []
  }
 ],
 "metadata": {
  "kernelspec": {
   "display_name": "Python 3",
   "language": "python",
   "name": "python3"
  },
  "language_info": {
   "codemirror_mode": {
    "name": "ipython",
    "version": 3
   },
   "file_extension": ".py",
   "mimetype": "text/x-python",
   "name": "python",
   "nbconvert_exporter": "python",
   "pygments_lexer": "ipython3",
   "version": "3.8.3"
  }
 },
 "nbformat": 4,
 "nbformat_minor": 4
}
