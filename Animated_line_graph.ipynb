#!/usr/bin/env python3
# -*- coding: utf-8 -*-
"""
Created on Fri Apr 29 14:23:58 2022

@author: ix21509
"""
import numpy as np
import matplotlib.pyplot as plt
import matplotlib.animation as animation
import pandas as pd

df = pd.read_csv('merged_data.csv')
df = df.T
df = df.iloc[1: , :]

x = df.index
y = df[0]

fig, ax = plt.subplots()
line, = ax.plot(x, y, color='k')

def update(num, x, y, line):
    
    line.set_data(range(num), y[:num])
    #line.axes.axis([0, 10, 0, 1])
    return line,

ani = animation.FuncAnimation(fig, update, len(x), fargs=[x, y, line],
                              interval=25, blit=True)
# ani.save('test.gif')
plt.show()